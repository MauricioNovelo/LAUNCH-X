{
 "cells": [
  {
   "cell_type": "markdown",
   "metadata": {},
   "source": [
    "# Ejercicio: Uso de funciones en Python\n",
    "## Ejercicio 1: Trabajar con argumentos en funciones\n",
    "Crear funcion que necesite tres lecturas de combustible"
   ]
  },
  {
   "cell_type": "code",
   "execution_count": 24,
   "metadata": {},
   "outputs": [],
   "source": [
    "def combustibletotal (tanquechico,tanquemediano,tanquegrande):\n",
    "    combustiblepromedio = (tanquechico + tanquegrande + tanquemediano) / 3\n",
    "    return f\"\"\"Reporte de combustible  \n",
    "    Combustible promedio = {combustiblepromedio}  \n",
    "    Tanque mediano = {tanquemediano}  \n",
    "    tanque pequeño = {tanquechico}  \n",
    "    tanque grande = {tanquegrande} \"\"\"\n",
    "\n"
   ]
  },
  {
   "cell_type": "markdown",
   "metadata": {},
   "source": [
    "Comprobamos"
   ]
  },
  {
   "cell_type": "code",
   "execution_count": 26,
   "metadata": {},
   "outputs": [
    {
     "name": "stdout",
     "output_type": "stream",
     "text": [
      "Reporte de combustible  \n",
      "    Combustible promedio = 20.0  \n",
      "    Tanque mediano = 20  \n",
      "    tanque pequeño = 10  \n",
      "    tanque grande = 30 \n"
     ]
    }
   ],
   "source": [
    "print(combustibletotal(10,20,30))\n"
   ]
  },
  {
   "cell_type": "markdown",
   "metadata": {},
   "source": [
    "Hacemos que el promedio sea una funcion independiente"
   ]
  },
  {
   "cell_type": "code",
   "execution_count": 29,
   "metadata": {},
   "outputs": [
    {
     "data": {
      "text/plain": [
       "12.0"
      ]
     },
     "execution_count": 29,
     "metadata": {},
     "output_type": "execute_result"
    }
   ],
   "source": [
    "def promedios(valores):\n",
    "    total = sum(valores)\n",
    "    numerodeitems = len(valores)\n",
    "    return total / numerodeitems\n",
    "\n",
    "promedios([12,12,12,12])"
   ]
  },
  {
   "cell_type": "markdown",
   "metadata": {},
   "source": [
    "Actualizamos la funcion"
   ]
  },
  {
   "cell_type": "code",
   "execution_count": 31,
   "metadata": {},
   "outputs": [
    {
     "name": "stdout",
     "output_type": "stream",
     "text": [
      "Reporte de combustible  \n",
      "    Combustible promedio = 33.333333333333336  \n",
      "    Tanque mediano = 30  \n",
      "    tanque pequeño = 20  \n",
      "    tanque grande = 50 \n"
     ]
    }
   ],
   "source": [
    "def combustibletotal (tanquechico,tanquemediano,tanquegrande):\n",
    "    combustiblepromedio = (tanquechico + tanquegrande + tanquemediano) / 3\n",
    "    return f\"\"\"Reporte de combustible  \n",
    "    Combustible promedio = {promedios([tanquechico,tanquegrande,tanquemediano])}  \n",
    "    Tanque mediano = {tanquemediano}  \n",
    "    tanque pequeño = {tanquechico}  \n",
    "    tanque grande = {tanquegrande} \"\"\"\n",
    "\n",
    "print(combustibletotal(20,30,50))"
   ]
  },
  {
   "cell_type": "markdown",
   "metadata": {},
   "source": [
    "## Ejercicio 2\n",
    "Trabajar con argumentos de palabras clave en funciones"
   ]
  },
  {
   "cell_type": "code",
   "execution_count": 32,
   "metadata": {},
   "outputs": [
    {
     "name": "stdout",
     "output_type": "stream",
     "text": [
      "Reporte de lanzamiento\n",
      "    El tiempo de vuelo a luna es = 212\n",
      "    destino = luna\n",
      "    Combustible total = 120\n"
     ]
    }
   ],
   "source": [
    "def misiondeviaje(tiempolanzamiento, tiempodevuelo, destino, tanqueinterno, tanqueexterno):\n",
    "    return f\"\"\"Reporte de lanzamiento\n",
    "    El tiempo de vuelo a {destino} es = {tiempodevuelo + tiempolanzamiento}\n",
    "    destino = {destino}\n",
    "    Combustible total = {tanqueexterno+ tanqueinterno}\"\"\"\n",
    "\n",
    "print(misiondeviaje(12, 200, \"luna\", 40, 80))"
   ]
  },
  {
   "cell_type": "markdown",
   "metadata": {},
   "source": [
    "Se adapta para minutos adicionales o tanques adicionales de combustible"
   ]
  },
  {
   "cell_type": "code",
   "execution_count": 36,
   "metadata": {},
   "outputs": [
    {
     "name": "stdout",
     "output_type": "stream",
     "text": [
      "Reporte de lanzamiento\n",
      "    El tiempo de vuelo a Luna es = 215 minutos\n",
      "    destino = Luna\n",
      "    Combustible total = 312 litros\n"
     ]
    }
   ],
   "source": [
    "def misiondeviaje(destino, *minutos, **tanques):\n",
    "    return f\"\"\"Reporte de lanzamiento\n",
    "    El tiempo de vuelo a {destino} es = {sum(minutos)} minutos\n",
    "    destino = {destino}\n",
    "    Combustible total = {sum(tanques.values())} litros\"\"\"\n",
    "\n",
    "print(misiondeviaje(\"Luna\", 12,23, 40, 70, 70, tanque1=12, tanque23=300))"
   ]
  },
  {
   "cell_type": "markdown",
   "metadata": {},
   "source": [
    "Especificar el nombre y valor de cada tanque"
   ]
  },
  {
   "cell_type": "code",
   "execution_count": 45,
   "metadata": {},
   "outputs": [
    {
     "name": "stdout",
     "output_type": "stream",
     "text": [
      "Reporte de lanzamiento\n",
      "    El tiempo de vuelo a Luna es = 215 minutos\n",
      "    destino = Luna\n",
      "    Combustible total = 312 litros\n",
      "    tanque1 litros ---> 12\n",
      "    tanque23 litros ---> 300\n"
     ]
    }
   ],
   "source": [
    "def misiondeviaje(destino, *minutos, **tanques):\n",
    "    reporteprincipal = f\"\"\"Reporte de lanzamiento\n",
    "    El tiempo de vuelo a {destino} es = {sum(minutos)} minutos\n",
    "    destino = {destino}\n",
    "    Combustible total = {sum(tanques.values())} litros\"\"\"\n",
    "    for nombretanque, litros in tanques.items():\n",
    "        reporteprincipal += f\"\\n    {nombretanque} litros ---> {litros}\"\n",
    "    return reporteprincipal\n",
    "\n",
    "print(misiondeviaje(\"Luna\", 12,23, 40, 70, 70, tanque1=12, tanque23=300))"
   ]
  }
 ],
 "metadata": {
  "interpreter": {
   "hash": "535e7dfa4e79b8a16ee5958c03c29abfca9eab7a4cbaa00a7baba8beca86875c"
  },
  "kernelspec": {
   "display_name": "Python 3.10.2 64-bit",
   "language": "python",
   "name": "python3"
  },
  "language_info": {
   "codemirror_mode": {
    "name": "ipython",
    "version": 3
   },
   "file_extension": ".py",
   "mimetype": "text/x-python",
   "name": "python",
   "nbconvert_exporter": "python",
   "pygments_lexer": "ipython3",
   "version": "3.10.2"
  },
  "orig_nbformat": 4
 },
 "nbformat": 4,
 "nbformat_minor": 2
}
