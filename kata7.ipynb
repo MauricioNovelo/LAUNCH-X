{
 "cells": [
  {
   "cell_type": "markdown",
   "metadata": {},
   "source": [
    "# Ejercicio 1: Creación de un bucle \"while\"\n",
    "## Uso de ciclos while en Python"
   ]
  },
  {
   "cell_type": "code",
   "execution_count": 1,
   "metadata": {},
   "outputs": [],
   "source": [
    "nuevo_planeta = ''\n",
    "planetas = []\n",
    "\n",
    "while nuevo_planeta.lower() != 'done':\n",
    "    if nuevo_planeta:\n",
    "        planetas.append(nuevo_planeta)\n",
    "    nuevo_planeta = input(\"Escribe tu planeta: \")\n"
   ]
  },
  {
   "cell_type": "markdown",
   "metadata": {},
   "source": [
    "## Ejercicio 2: Creación de un ciclo \"for\""
   ]
  },
  {
   "cell_type": "code",
   "execution_count": null,
   "metadata": {},
   "outputs": [],
   "source": [
    "for variables in planetas:\n",
    "    print(variables)\n",
    "\n",
    "    "
   ]
  }
 ],
 "metadata": {
  "interpreter": {
   "hash": "535e7dfa4e79b8a16ee5958c03c29abfca9eab7a4cbaa00a7baba8beca86875c"
  },
  "kernelspec": {
   "display_name": "Python 3.10.2 64-bit",
   "language": "python",
   "name": "python3"
  },
  "language_info": {
   "codemirror_mode": {
    "name": "ipython",
    "version": 3
   },
   "file_extension": ".py",
   "mimetype": "text/x-python",
   "name": "python",
   "nbconvert_exporter": "python",
   "pygments_lexer": "ipython3",
   "version": "3.10.2"
  },
  "orig_nbformat": 4
 },
 "nbformat": 4,
 "nbformat_minor": 2
}
